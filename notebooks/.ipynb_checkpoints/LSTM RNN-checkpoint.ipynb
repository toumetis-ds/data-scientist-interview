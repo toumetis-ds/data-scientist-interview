{
 "cells": [
  {
   "cell_type": "code",
   "execution_count": 1,
   "metadata": {},
   "outputs": [
    {
     "name": "stderr",
     "output_type": "stream",
     "text": [
      "/home/ilopvonem/anaconda3/lib/python3.6/site-packages/statsmodels/compat/pandas.py:56: FutureWarning: The pandas.core.datetools module is deprecated and will be removed in a future version. Please use the pandas.tseries module instead.\n",
      "  from pandas.core import datetools\n"
     ]
    }
   ],
   "source": [
    "import numpy as np\n",
    "import pandas as pd\n",
    "import matplotlib.pyplot as plt\n",
    "from statsmodels.tsa.stattools import adfuller\n",
    "\n",
    "# pip install -U imbalanced-learn\n",
    "from imblearn.over_sampling import SMOTE\n",
    "\n",
    "%matplotlib inline\n",
    "from matplotlib.pylab import rcParams\n",
    "rcParams['figure.figsize'] = 15, 6"
   ]
  },
  {
   "cell_type": "markdown",
   "metadata": {},
   "source": [
    "## Read data and parse index as datetime"
   ]
  },
  {
   "cell_type": "code",
   "execution_count": 2,
   "metadata": {},
   "outputs": [
    {
     "data": {
      "text/plain": [
       "(1098199, 5)"
      ]
     },
     "execution_count": 2,
     "metadata": {},
     "output_type": "execute_result"
    }
   ],
   "source": [
    "data = pd.read_csv('../data/data.csv', encoding='utf-8', index_col=0)\n",
    "data.index = pd.to_datetime(data.index)\n",
    "data.shape"
   ]
  },
  {
   "cell_type": "code",
   "execution_count": 3,
   "metadata": {},
   "outputs": [
    {
     "data": {
      "text/html": [
       "<div>\n",
       "<style>\n",
       "    .dataframe thead tr:only-child th {\n",
       "        text-align: right;\n",
       "    }\n",
       "\n",
       "    .dataframe thead th {\n",
       "        text-align: left;\n",
       "    }\n",
       "\n",
       "    .dataframe tbody tr th {\n",
       "        vertical-align: top;\n",
       "    }\n",
       "</style>\n",
       "<table border=\"1\" class=\"dataframe\">\n",
       "  <thead>\n",
       "    <tr style=\"text-align: right;\">\n",
       "      <th></th>\n",
       "      <th>asset_id</th>\n",
       "      <th>operational_mode</th>\n",
       "      <th>s1</th>\n",
       "      <th>s2</th>\n",
       "      <th>s3</th>\n",
       "    </tr>\n",
       "  </thead>\n",
       "  <tbody>\n",
       "    <tr>\n",
       "      <th>2016-01-01 00:00:00</th>\n",
       "      <td>33</td>\n",
       "      <td>a</td>\n",
       "      <td>-0.694638</td>\n",
       "      <td>12.680544</td>\n",
       "      <td>0.503953</td>\n",
       "    </tr>\n",
       "    <tr>\n",
       "      <th>2016-01-01 00:05:00</th>\n",
       "      <td>33</td>\n",
       "      <td>a</td>\n",
       "      <td>5.012288</td>\n",
       "      <td>11.264028</td>\n",
       "      <td>0.953424</td>\n",
       "    </tr>\n",
       "    <tr>\n",
       "      <th>2016-01-01 00:10:00</th>\n",
       "      <td>33</td>\n",
       "      <td>a</td>\n",
       "      <td>4.903325</td>\n",
       "      <td>10.882658</td>\n",
       "      <td>-0.081722</td>\n",
       "    </tr>\n",
       "    <tr>\n",
       "      <th>2016-01-01 00:15:00</th>\n",
       "      <td>33</td>\n",
       "      <td>a</td>\n",
       "      <td>-0.612916</td>\n",
       "      <td>18.496431</td>\n",
       "      <td>3.023717</td>\n",
       "    </tr>\n",
       "    <tr>\n",
       "      <th>2016-01-01 00:20:00</th>\n",
       "      <td>33</td>\n",
       "      <td>a</td>\n",
       "      <td>-1.184970</td>\n",
       "      <td>12.108489</td>\n",
       "      <td>7.205164</td>\n",
       "    </tr>\n",
       "  </tbody>\n",
       "</table>\n",
       "</div>"
      ],
      "text/plain": [
       "                     asset_id operational_mode        s1         s2        s3\n",
       "2016-01-01 00:00:00        33                a -0.694638  12.680544  0.503953\n",
       "2016-01-01 00:05:00        33                a  5.012288  11.264028  0.953424\n",
       "2016-01-01 00:10:00        33                a  4.903325  10.882658 -0.081722\n",
       "2016-01-01 00:15:00        33                a -0.612916  18.496431  3.023717\n",
       "2016-01-01 00:20:00        33                a -1.184970  12.108489  7.205164"
      ]
     },
     "execution_count": 3,
     "metadata": {},
     "output_type": "execute_result"
    }
   ],
   "source": [
    "data.head()"
   ]
  },
  {
   "cell_type": "code",
   "execution_count": 4,
   "metadata": {},
   "outputs": [
    {
     "data": {
      "text/plain": [
       "asset_id            0\n",
       "operational_mode    0\n",
       "s1                  5\n",
       "s2                  0\n",
       "s3                  1\n",
       "dtype: int64"
      ]
     },
     "execution_count": 4,
     "metadata": {},
     "output_type": "execute_result"
    }
   ],
   "source": [
    "data.isnull().sum()"
   ]
  },
  {
   "cell_type": "markdown",
   "metadata": {},
   "source": [
    "There are two options here to remove those rows that contain NULL values or to replace NULL values with 0.\n",
    "\n",
    "I chose the latter, even though it won't be a great loss to remove 6 (potentially) rows."
   ]
  },
  {
   "cell_type": "code",
   "execution_count": 5,
   "metadata": {},
   "outputs": [
    {
     "data": {
      "text/plain": [
       "asset_id            0\n",
       "operational_mode    0\n",
       "s1                  0\n",
       "s2                  0\n",
       "s3                  0\n",
       "dtype: int64"
      ]
     },
     "execution_count": 5,
     "metadata": {},
     "output_type": "execute_result"
    }
   ],
   "source": [
    "data = data.fillna(0)\n",
    "data.isnull().sum()"
   ]
  },
  {
   "cell_type": "markdown",
   "metadata": {},
   "source": [
    "## Test whether all is good"
   ]
  },
  {
   "cell_type": "code",
   "execution_count": 6,
   "metadata": {},
   "outputs": [
    {
     "data": {
      "text/html": [
       "<div>\n",
       "<style>\n",
       "    .dataframe thead tr:only-child th {\n",
       "        text-align: right;\n",
       "    }\n",
       "\n",
       "    .dataframe thead th {\n",
       "        text-align: left;\n",
       "    }\n",
       "\n",
       "    .dataframe tbody tr th {\n",
       "        vertical-align: top;\n",
       "    }\n",
       "</style>\n",
       "<table border=\"1\" class=\"dataframe\">\n",
       "  <thead>\n",
       "    <tr style=\"text-align: right;\">\n",
       "      <th></th>\n",
       "      <th>asset_id</th>\n",
       "      <th>operational_mode</th>\n",
       "      <th>s1</th>\n",
       "      <th>s2</th>\n",
       "      <th>s3</th>\n",
       "    </tr>\n",
       "  </thead>\n",
       "  <tbody>\n",
       "    <tr>\n",
       "      <th>2016-06-02 00:15:00</th>\n",
       "      <td>20</td>\n",
       "      <td>e</td>\n",
       "      <td>-1.99</td>\n",
       "      <td>3.91</td>\n",
       "      <td>9.08</td>\n",
       "    </tr>\n",
       "    <tr>\n",
       "      <th>2016-06-02 00:20:00</th>\n",
       "      <td>20</td>\n",
       "      <td>e</td>\n",
       "      <td>-1.84</td>\n",
       "      <td>4.02</td>\n",
       "      <td>9.08</td>\n",
       "    </tr>\n",
       "    <tr>\n",
       "      <th>2016-06-02 00:25:00</th>\n",
       "      <td>20</td>\n",
       "      <td>e</td>\n",
       "      <td>-1.80</td>\n",
       "      <td>4.18</td>\n",
       "      <td>8.92</td>\n",
       "    </tr>\n",
       "    <tr>\n",
       "      <th>2016-06-02 00:30:00</th>\n",
       "      <td>20</td>\n",
       "      <td>e</td>\n",
       "      <td>-1.84</td>\n",
       "      <td>4.10</td>\n",
       "      <td>9.08</td>\n",
       "    </tr>\n",
       "    <tr>\n",
       "      <th>2016-06-02 00:15:00</th>\n",
       "      <td>31</td>\n",
       "      <td>f</td>\n",
       "      <td>5.05</td>\n",
       "      <td>6.05</td>\n",
       "      <td>1.04</td>\n",
       "    </tr>\n",
       "    <tr>\n",
       "      <th>2016-06-02 00:20:00</th>\n",
       "      <td>31</td>\n",
       "      <td>f</td>\n",
       "      <td>6.40</td>\n",
       "      <td>6.63</td>\n",
       "      <td>0.34</td>\n",
       "    </tr>\n",
       "    <tr>\n",
       "      <th>2016-06-02 00:25:00</th>\n",
       "      <td>31</td>\n",
       "      <td>f</td>\n",
       "      <td>7.04</td>\n",
       "      <td>6.70</td>\n",
       "      <td>-0.08</td>\n",
       "    </tr>\n",
       "    <tr>\n",
       "      <th>2016-06-02 00:30:00</th>\n",
       "      <td>31</td>\n",
       "      <td>f</td>\n",
       "      <td>7.01</td>\n",
       "      <td>6.02</td>\n",
       "      <td>-0.27</td>\n",
       "    </tr>\n",
       "    <tr>\n",
       "      <th>2016-06-02 00:15:00</th>\n",
       "      <td>19</td>\n",
       "      <td>e</td>\n",
       "      <td>8.96</td>\n",
       "      <td>-0.80</td>\n",
       "      <td>2.26</td>\n",
       "    </tr>\n",
       "    <tr>\n",
       "      <th>2016-06-02 00:20:00</th>\n",
       "      <td>19</td>\n",
       "      <td>e</td>\n",
       "      <td>9.00</td>\n",
       "      <td>-0.80</td>\n",
       "      <td>2.30</td>\n",
       "    </tr>\n",
       "    <tr>\n",
       "      <th>2016-06-02 00:25:00</th>\n",
       "      <td>19</td>\n",
       "      <td>e</td>\n",
       "      <td>8.92</td>\n",
       "      <td>-0.76</td>\n",
       "      <td>2.30</td>\n",
       "    </tr>\n",
       "    <tr>\n",
       "      <th>2016-06-02 00:30:00</th>\n",
       "      <td>19</td>\n",
       "      <td>e</td>\n",
       "      <td>8.92</td>\n",
       "      <td>-0.76</td>\n",
       "      <td>2.34</td>\n",
       "    </tr>\n",
       "  </tbody>\n",
       "</table>\n",
       "</div>"
      ],
      "text/plain": [
       "                     asset_id operational_mode    s1    s2    s3\n",
       "2016-06-02 00:15:00        20                e -1.99  3.91  9.08\n",
       "2016-06-02 00:20:00        20                e -1.84  4.02  9.08\n",
       "2016-06-02 00:25:00        20                e -1.80  4.18  8.92\n",
       "2016-06-02 00:30:00        20                e -1.84  4.10  9.08\n",
       "2016-06-02 00:15:00        31                f  5.05  6.05  1.04\n",
       "2016-06-02 00:20:00        31                f  6.40  6.63  0.34\n",
       "2016-06-02 00:25:00        31                f  7.04  6.70 -0.08\n",
       "2016-06-02 00:30:00        31                f  7.01  6.02 -0.27\n",
       "2016-06-02 00:15:00        19                e  8.96 -0.80  2.26\n",
       "2016-06-02 00:20:00        19                e  9.00 -0.80  2.30\n",
       "2016-06-02 00:25:00        19                e  8.92 -0.76  2.30\n",
       "2016-06-02 00:30:00        19                e  8.92 -0.76  2.34"
      ]
     },
     "execution_count": 6,
     "metadata": {},
     "output_type": "execute_result"
    }
   ],
   "source": [
    "mask = (data.index >= '2016-6-2 00:15:00') & (data.index <= '2016-6-2 00:30:00')\n",
    "data.loc[mask]"
   ]
  },
  {
   "cell_type": "markdown",
   "metadata": {},
   "source": [
    "Describe the data to see if there is anything striking.\n",
    "\n",
    "By the looks of std values **s2** might be of interest."
   ]
  },
  {
   "cell_type": "code",
   "execution_count": 7,
   "metadata": {},
   "outputs": [
    {
     "data": {
      "text/html": [
       "<div>\n",
       "<style>\n",
       "    .dataframe thead tr:only-child th {\n",
       "        text-align: right;\n",
       "    }\n",
       "\n",
       "    .dataframe thead th {\n",
       "        text-align: left;\n",
       "    }\n",
       "\n",
       "    .dataframe tbody tr th {\n",
       "        vertical-align: top;\n",
       "    }\n",
       "</style>\n",
       "<table border=\"1\" class=\"dataframe\">\n",
       "  <thead>\n",
       "    <tr style=\"text-align: right;\">\n",
       "      <th></th>\n",
       "      <th>asset_id</th>\n",
       "      <th>s1</th>\n",
       "      <th>s2</th>\n",
       "      <th>s3</th>\n",
       "    </tr>\n",
       "  </thead>\n",
       "  <tbody>\n",
       "    <tr>\n",
       "      <th>count</th>\n",
       "      <td>1.098199e+06</td>\n",
       "      <td>1.098199e+06</td>\n",
       "      <td>1.098199e+06</td>\n",
       "      <td>1.098199e+06</td>\n",
       "    </tr>\n",
       "    <tr>\n",
       "      <th>mean</th>\n",
       "      <td>1.886065e+01</td>\n",
       "      <td>6.628558e-01</td>\n",
       "      <td>7.255648e+00</td>\n",
       "      <td>4.110597e-01</td>\n",
       "    </tr>\n",
       "    <tr>\n",
       "      <th>std</th>\n",
       "      <td>1.021424e+01</td>\n",
       "      <td>6.849067e+00</td>\n",
       "      <td>6.746211e+00</td>\n",
       "      <td>4.754113e+00</td>\n",
       "    </tr>\n",
       "    <tr>\n",
       "      <th>min</th>\n",
       "      <td>1.000000e+00</td>\n",
       "      <td>-1.961000e+01</td>\n",
       "      <td>-1.961000e+01</td>\n",
       "      <td>-1.980000e+01</td>\n",
       "    </tr>\n",
       "    <tr>\n",
       "      <th>25%</th>\n",
       "      <td>1.000000e+01</td>\n",
       "      <td>-2.870000e+00</td>\n",
       "      <td>3.170000e+00</td>\n",
       "      <td>-2.220000e+00</td>\n",
       "    </tr>\n",
       "    <tr>\n",
       "      <th>50%</th>\n",
       "      <td>1.900000e+01</td>\n",
       "      <td>2.700000e-01</td>\n",
       "      <td>7.930000e+00</td>\n",
       "      <td>0.000000e+00</td>\n",
       "    </tr>\n",
       "    <tr>\n",
       "      <th>75%</th>\n",
       "      <td>2.800000e+01</td>\n",
       "      <td>4.440000e+00</td>\n",
       "      <td>1.156000e+01</td>\n",
       "      <td>2.720000e+00</td>\n",
       "    </tr>\n",
       "    <tr>\n",
       "      <th>max</th>\n",
       "      <td>3.600000e+01</td>\n",
       "      <td>1.995000e+01</td>\n",
       "      <td>2.004000e+01</td>\n",
       "      <td>1.961000e+01</td>\n",
       "    </tr>\n",
       "  </tbody>\n",
       "</table>\n",
       "</div>"
      ],
      "text/plain": [
       "           asset_id            s1            s2            s3\n",
       "count  1.098199e+06  1.098199e+06  1.098199e+06  1.098199e+06\n",
       "mean   1.886065e+01  6.628558e-01  7.255648e+00  4.110597e-01\n",
       "std    1.021424e+01  6.849067e+00  6.746211e+00  4.754113e+00\n",
       "min    1.000000e+00 -1.961000e+01 -1.961000e+01 -1.980000e+01\n",
       "25%    1.000000e+01 -2.870000e+00  3.170000e+00 -2.220000e+00\n",
       "50%    1.900000e+01  2.700000e-01  7.930000e+00  0.000000e+00\n",
       "75%    2.800000e+01  4.440000e+00  1.156000e+01  2.720000e+00\n",
       "max    3.600000e+01  1.995000e+01  2.004000e+01  1.961000e+01"
      ]
     },
     "execution_count": 7,
     "metadata": {},
     "output_type": "execute_result"
    }
   ],
   "source": [
    "data.describe()"
   ]
  },
  {
   "cell_type": "markdown",
   "metadata": {
    "collapsed": true
   },
   "source": [
    "## Define functions here:"
   ]
  },
  {
   "cell_type": "code",
   "execution_count": 8,
   "metadata": {
    "collapsed": true
   },
   "outputs": [],
   "source": [
    "def test_stationarity(timeseries):\n",
    "    \n",
    "    #Determing rolling statistics\n",
    "    rolmean = pd.rolling_mean(timeseries, window=12)\n",
    "    rolstd = pd.rolling_std(timeseries, window=12)\n",
    "\n",
    "    #Plot rolling statistics:\n",
    "    orig = plt.plot(timeseries, color='blue',label='Original')\n",
    "    mean = plt.plot(rolmean, color='red', label='Rolling Mean')\n",
    "    std = plt.plot(rolstd, color='black', label = 'Rolling Std')\n",
    "    plt.legend(loc='best')\n",
    "    plt.title('Rolling Mean & Standard Deviation')\n",
    "    plt.show(block=False)\n",
    "    \n",
    "    #Perform Dickey-Fuller test:\n",
    "    print('Results of Dickey-Fuller Test:')\n",
    "    dftest = adfuller(timeseries, autolag='AIC')\n",
    "    dfoutput = pd.Series(dftest[0:4], index=['Test Statistic','p-value','#Lags Used','Number of Observations Used'])\n",
    "    for key,value in dftest[4].items():\n",
    "        dfoutput['Critical Value (%s)'%key] = value\n",
    "    print(dfoutput)"
   ]
  },
  {
   "cell_type": "code",
   "execution_count": 9,
   "metadata": {},
   "outputs": [
    {
     "name": "stderr",
     "output_type": "stream",
     "text": [
      "Using TensorFlow backend.\n",
      "/home/ilopvonem/anaconda3/lib/python3.6/site-packages/h5py/__init__.py:34: FutureWarning: Conversion of the second argument of issubdtype from `float` to `np.floating` is deprecated. In future, it will be treated as `np.float64 == np.dtype(float).type`.\n",
      "  from ._conv import register_converters as _register_converters\n"
     ]
    }
   ],
   "source": [
    "import keras.backend as K\n",
    "import keras\n",
    "\n",
    "def rmse (y_true, y_pred):\n",
    "    return K.sqrt(K.mean(K.square(y_pred - y_true)))"
   ]
  },
  {
   "cell_type": "markdown",
   "metadata": {},
   "source": [
    "## Check out the data balance"
   ]
  },
  {
   "cell_type": "code",
   "execution_count": 10,
   "metadata": {},
   "outputs": [
    {
     "data": {
      "text/plain": [
       "array(['a', 'b', 'c', 'd', 'f', 'e'], dtype=object)"
      ]
     },
     "execution_count": 10,
     "metadata": {},
     "output_type": "execute_result"
    }
   ],
   "source": [
    "data['operational_mode'].unique()"
   ]
  },
  {
   "cell_type": "code",
   "execution_count": 11,
   "metadata": {},
   "outputs": [
    {
     "data": {
      "image/png": "[encoded data removed]",
      "text/plain": [
       "<matplotlib.figure.Figure at 0x7feb2fbac6a0>"
      ]
     },
     "metadata": {},
     "output_type": "display_data"
    }
   ],
   "source": [
    "data['count'] = 1\n",
    "sep_count = data[['operational_mode', 'count']].groupby('operational_mode').sum()\n",
    "assert sep_count.sum()['count'] == data.shape[0]\n",
    "\n",
    "sep_count.plot(kind='bar', grid=True)\n",
    "plt.show()"
   ]
  },
  {
   "cell_type": "markdown",
   "metadata": {},
   "source": [
    "The data looks quite imbalanced. There are much more examples of operational modes *a* and *b*, while operational modes *c, d, e, f* are quite limited.\n",
    "\n",
    "I might need to use some re-sampling techniques to balance it."
   ]
  },
  {
   "cell_type": "code",
   "execution_count": 12,
   "metadata": {},
   "outputs": [
    {
     "data": {
      "image/png": "[encoded data removed]",
      "text/plain": [
       "<matplotlib.figure.Figure at 0x7feb2fc0ec88>"
      ]
     },
     "metadata": {},
     "output_type": "display_data"
    }
   ],
   "source": [
    "sep_count = data[['count', 'asset_id']].groupby('asset_id').count()\n",
    "assert sep_count.sum()['count'] == data.shape[0]\n",
    "\n",
    "sep_count.plot(kind='bar', grid=True, figsize=(15,8))\n",
    "plt.show()"
   ]
  },
  {
   "cell_type": "markdown",
   "metadata": {
    "collapsed": true
   },
   "source": [
    "The data for machines *4, 9, 25* is quite limited.\n",
    "\n",
    "However, for the classification problem I think to use all the data (combined together) as opposed to build a separate model for each machine. In this way I will be able to use the entirety of the data (much more training examples)."
   ]
  },
  {
   "cell_type": "code",
   "execution_count": 13,
   "metadata": {},
   "outputs": [
    {
     "name": "stdout",
     "output_type": "stream",
     "text": [
      "Shape of asset 20: (56632, 6)\n"
     ]
    },
    {
     "data": {
      "image/png": "[encoded data removed]",
      "text/plain": [
       "<matplotlib.figure.Figure at 0x7feb2faf5e10>"
      ]
     },
     "metadata": {},
     "output_type": "display_data"
    }
   ],
   "source": [
    "asset20 = data[data['asset_id']==20]\n",
    "print(f\"Shape of asset 20: {asset20.shape}\")\n",
    "date_mask = (asset20.index >= '2016-2-2 03:00:00') & (asset20.index <= '2016-2-2 09:00:00')\n",
    "asset20.drop('asset_id', axis=1)['s2'].plot()\n",
    "plt.show()"
   ]
  },
  {
   "cell_type": "markdown",
   "metadata": {},
   "source": [
    "I don't understand this. \n",
    "\n",
    "* Why does the data for Jan until May looks so messy?\n",
    "* Is this data usable?\n",
    "* What actually caused this and could this be prevented for the future?"
   ]
  },
  {
   "cell_type": "code",
   "execution_count": 15,
   "metadata": {},
   "outputs": [
    {
     "name": "stderr",
     "output_type": "stream",
     "text": [
      "/home/ilopvonem/anaconda3/lib/python3.6/site-packages/ipykernel_launcher.py:4: FutureWarning: pd.rolling_mean is deprecated for Series and will be removed in a future version, replace with \n",
      "\tSeries.rolling(window=12,center=False).mean()\n",
      "  after removing the cwd from sys.path.\n",
      "/home/ilopvonem/anaconda3/lib/python3.6/site-packages/ipykernel_launcher.py:5: FutureWarning: pd.rolling_std is deprecated for Series and will be removed in a future version, replace with \n",
      "\tSeries.rolling(window=12,center=False).std()\n",
      "  \"\"\"\n"
     ]
    },
    {
     "data": {
      "image/png": "[encoded data removed]",
      "text/plain": [
       "<matplotlib.figure.Figure at 0x7feb2a217c50>"
      ]
     },
     "metadata": {},
     "output_type": "display_data"
    },
    {
     "name": "stdout",
     "output_type": "stream",
     "text": [
      "Results of Dickey-Fuller Test:\n",
      "Test Statistic                -5.842024e+00\n",
      "p-value                        3.758006e-07\n",
      "#Lags Used                     5.700000e+01\n",
      "Number of Observations Used    5.657400e+04\n",
      "Critical Value (1%)           -3.430466e+00\n",
      "Critical Value (5%)           -2.861591e+00\n",
      "Critical Value (10%)          -2.566797e+00\n",
      "dtype: float64\n"
     ]
    }
   ],
   "source": [
    "test_stationarity(asset20['s1'])"
   ]
  },
  {
   "cell_type": "markdown",
   "metadata": {},
   "source": [
    "Test stationarity even though time series data is visibly not stationary."
   ]
  },
  {
   "cell_type": "code",
   "execution_count": 16,
   "metadata": {},
   "outputs": [
    {
     "name": "stdout",
     "output_type": "stream",
     "text": [
      "(11128, 6)\n"
     ]
    },
    {
     "data": {
      "image/png": "[encoded data removed]",
      "text/plain": [
       "<matplotlib.figure.Figure at 0x7feb2a270128>"
      ]
     },
     "metadata": {},
     "output_type": "display_data"
    }
   ],
   "source": [
    "data[data.index >= '2016-6-7 00:00:00'][['s1', 's2', 's3']].plot()\n",
    "not_messy_data = data[data.index >= '2016-6-7 00:00:00']\n",
    "print(not_messy_data.shape)\n",
    "plt.show()"
   ]
  },
  {
   "cell_type": "code",
   "execution_count": 17,
   "metadata": {},
   "outputs": [
    {
     "data": {
      "text/plain": [
       "98.98670459543307"
      ]
     },
     "execution_count": 17,
     "metadata": {},
     "output_type": "execute_result"
    }
   ],
   "source": [
    "100 - (not_messy_data.shape[0] / data.shape[0]) * 100.0"
   ]
  },
  {
   "cell_type": "markdown",
   "metadata": {},
   "source": [
    "If I slice out the messy looking data the time series looks much better, but we loose 98.98% of the data."
   ]
  },
  {
   "cell_type": "code",
   "execution_count": 18,
   "metadata": {},
   "outputs": [
    {
     "name": "stderr",
     "output_type": "stream",
     "text": [
      "/home/ilopvonem/anaconda3/lib/python3.6/site-packages/ipykernel_launcher.py:4: FutureWarning: pd.rolling_mean is deprecated for Series and will be removed in a future version, replace with \n",
      "\tSeries.rolling(window=12,center=False).mean()\n",
      "  after removing the cwd from sys.path.\n",
      "/home/ilopvonem/anaconda3/lib/python3.6/site-packages/ipykernel_launcher.py:5: FutureWarning: pd.rolling_std is deprecated for Series and will be removed in a future version, replace with \n",
      "\tSeries.rolling(window=12,center=False).std()\n",
      "  \"\"\"\n"
     ]
    },
    {
     "data": {
      "image/png": "[encoded data removed]",
      "text/plain": [
       "<matplotlib.figure.Figure at 0x7feb2a1fe128>"
      ]
     },
     "metadata": {},
     "output_type": "display_data"
    },
    {
     "name": "stdout",
     "output_type": "stream",
     "text": [
      "Results of Dickey-Fuller Test:\n",
      "Test Statistic                    -1.866195\n",
      "p-value                            0.348127\n",
      "#Lags Used                        38.000000\n",
      "Number of Observations Used    11089.000000\n",
      "Critical Value (1%)               -3.430940\n",
      "Critical Value (5%)               -2.861801\n",
      "Critical Value (10%)              -2.566909\n",
      "dtype: float64\n"
     ]
    }
   ],
   "source": [
    "test_stationarity(not_messy_data['s1'])"
   ]
  },
  {
   "cell_type": "code",
   "execution_count": 19,
   "metadata": {
    "collapsed": true
   },
   "outputs": [],
   "source": [
    "# ts_log = np.log(not_messy_data['s1'])\n",
    "# plt.plot(ts_log)\n",
    "# ts_log.head()"
   ]
  },
  {
   "cell_type": "markdown",
   "metadata": {
    "collapsed": true
   },
   "source": [
    "## Data processing"
   ]
  },
  {
   "cell_type": "code",
   "execution_count": 20,
   "metadata": {
    "collapsed": true
   },
   "outputs": [],
   "source": [
    "from sklearn.preprocessing import MinMaxScaler\n",
    "from sklearn.preprocessing import StandardScaler\n",
    "from math import sqrt"
   ]
  },
  {
   "cell_type": "code",
   "execution_count": 21,
   "metadata": {
    "collapsed": true
   },
   "outputs": [],
   "source": [
    "def normalize(series):\n",
    "    values = series.values\n",
    "    values = values.reshape((len(values), 1))\n",
    "    scaler = MinMaxScaler(feature_range=(0, 1))\n",
    "    scaler = scaler.fit(values)\n",
    "    print('Min: %f, Max: %f' % (scaler.data_min_, scaler.data_max_))\n",
    "    return scaler.transform(values)"
   ]
  },
  {
   "cell_type": "code",
   "execution_count": 22,
   "metadata": {
    "collapsed": true
   },
   "outputs": [],
   "source": [
    "def standardize(series):\n",
    "    values = series.values\n",
    "    values = values.reshape((len(values), 1))\n",
    "    scaler = StandardScaler()\n",
    "    scaler = scaler.fit(values)\n",
    "    print('Mean: %f, StandardDeviation: %f' % (scaler.mean_, sqrt(scaler.var_)))\n",
    "    return scaler.transform(values)"
   ]
  },
  {
   "cell_type": "markdown",
   "metadata": {},
   "source": [
    "## Normalize the data:"
   ]
  },
  {
   "cell_type": "code",
   "execution_count": 23,
   "metadata": {},
   "outputs": [
    {
     "name": "stdout",
     "output_type": "stream",
     "text": [
      "Min: -19.610000, Max: 19.950000\n",
      "Min: -19.610000, Max: 20.040000\n",
      "Min: -19.800000, Max: 19.610000\n"
     ]
    },
    {
     "data": {
      "text/html": [
       "<div>\n",
       "<style>\n",
       "    .dataframe thead tr:only-child th {\n",
       "        text-align: right;\n",
       "    }\n",
       "\n",
       "    .dataframe thead th {\n",
       "        text-align: left;\n",
       "    }\n",
       "\n",
       "    .dataframe tbody tr th {\n",
       "        vertical-align: top;\n",
       "    }\n",
       "</style>\n",
       "<table border=\"1\" class=\"dataframe\">\n",
       "  <thead>\n",
       "    <tr style=\"text-align: right;\">\n",
       "      <th></th>\n",
       "      <th>asset_id</th>\n",
       "      <th>operational_mode</th>\n",
       "      <th>s1</th>\n",
       "      <th>s2</th>\n",
       "      <th>s3</th>\n",
       "      <th>count</th>\n",
       "      <th>norm_s1</th>\n",
       "      <th>norm_s2</th>\n",
       "      <th>norm_s3</th>\n",
       "    </tr>\n",
       "  </thead>\n",
       "  <tbody>\n",
       "    <tr>\n",
       "      <th>2016-01-01 00:00:00</th>\n",
       "      <td>33</td>\n",
       "      <td>a</td>\n",
       "      <td>-0.694638</td>\n",
       "      <td>12.680544</td>\n",
       "      <td>0.503953</td>\n",
       "      <td>1</td>\n",
       "      <td>0.478144</td>\n",
       "      <td>0.814390</td>\n",
       "      <td>0.515198</td>\n",
       "    </tr>\n",
       "    <tr>\n",
       "      <th>2016-01-01 00:05:00</th>\n",
       "      <td>33</td>\n",
       "      <td>a</td>\n",
       "      <td>5.012288</td>\n",
       "      <td>11.264028</td>\n",
       "      <td>0.953424</td>\n",
       "      <td>1</td>\n",
       "      <td>0.622404</td>\n",
       "      <td>0.778664</td>\n",
       "      <td>0.526603</td>\n",
       "    </tr>\n",
       "    <tr>\n",
       "      <th>2016-01-01 00:10:00</th>\n",
       "      <td>33</td>\n",
       "      <td>a</td>\n",
       "      <td>4.903325</td>\n",
       "      <td>10.882658</td>\n",
       "      <td>-0.081722</td>\n",
       "      <td>1</td>\n",
       "      <td>0.619649</td>\n",
       "      <td>0.769046</td>\n",
       "      <td>0.500337</td>\n",
       "    </tr>\n",
       "    <tr>\n",
       "      <th>2016-01-01 00:15:00</th>\n",
       "      <td>33</td>\n",
       "      <td>a</td>\n",
       "      <td>-0.612916</td>\n",
       "      <td>18.496431</td>\n",
       "      <td>3.023717</td>\n",
       "      <td>1</td>\n",
       "      <td>0.480209</td>\n",
       "      <td>0.961070</td>\n",
       "      <td>0.579135</td>\n",
       "    </tr>\n",
       "    <tr>\n",
       "      <th>2016-01-01 00:20:00</th>\n",
       "      <td>33</td>\n",
       "      <td>a</td>\n",
       "      <td>-1.184970</td>\n",
       "      <td>12.108489</td>\n",
       "      <td>7.205164</td>\n",
       "      <td>1</td>\n",
       "      <td>0.465749</td>\n",
       "      <td>0.799962</td>\n",
       "      <td>0.685236</td>\n",
       "    </tr>\n",
       "  </tbody>\n",
       "</table>\n",
       "</div>"
      ],
      "text/plain": [
       "                     asset_id operational_mode        s1         s2        s3  \\\n",
       "2016-01-01 00:00:00        33                a -0.694638  12.680544  0.503953   \n",
       "2016-01-01 00:05:00        33                a  5.012288  11.264028  0.953424   \n",
       "2016-01-01 00:10:00        33                a  4.903325  10.882658 -0.081722   \n",
       "2016-01-01 00:15:00        33                a -0.612916  18.496431  3.023717   \n",
       "2016-01-01 00:20:00        33                a -1.184970  12.108489  7.205164   \n",
       "\n",
       "                     count   norm_s1   norm_s2   norm_s3  \n",
       "2016-01-01 00:00:00      1  0.478144  0.814390  0.515198  \n",
       "2016-01-01 00:05:00      1  0.622404  0.778664  0.526603  \n",
       "2016-01-01 00:10:00      1  0.619649  0.769046  0.500337  \n",
       "2016-01-01 00:15:00      1  0.480209  0.961070  0.579135  \n",
       "2016-01-01 00:20:00      1  0.465749  0.799962  0.685236  "
      ]
     },
     "execution_count": 23,
     "metadata": {},
     "output_type": "execute_result"
    }
   ],
   "source": [
    "data['norm_s1'] = normalize(data['s1'])\n",
    "data['norm_s2'] = normalize(data['s2'])\n",
    "data['norm_s3'] = normalize(data['s3'])\n",
    "data.head()"
   ]
  },
  {
   "cell_type": "markdown",
   "metadata": {},
   "source": [
    "## Standardize the data:"
   ]
  },
  {
   "cell_type": "code",
   "execution_count": 24,
   "metadata": {},
   "outputs": [
    {
     "name": "stdout",
     "output_type": "stream",
     "text": [
      "Mean: 0.662856, StandardDeviation: 6.849064\n",
      "Mean: 7.255648, StandardDeviation: 6.746208\n",
      "Mean: 0.411060, StandardDeviation: 4.754111\n"
     ]
    },
    {
     "data": {
      "text/html": [
       "<div>\n",
       "<style>\n",
       "    .dataframe thead tr:only-child th {\n",
       "        text-align: right;\n",
       "    }\n",
       "\n",
       "    .dataframe thead th {\n",
       "        text-align: left;\n",
       "    }\n",
       "\n",
       "    .dataframe tbody tr th {\n",
       "        vertical-align: top;\n",
       "    }\n",
       "</style>\n",
       "<table border=\"1\" class=\"dataframe\">\n",
       "  <thead>\n",
       "    <tr style=\"text-align: right;\">\n",
       "      <th></th>\n",
       "      <th>asset_id</th>\n",
       "      <th>operational_mode</th>\n",
       "      <th>s1</th>\n",
       "      <th>s2</th>\n",
       "      <th>s3</th>\n",
       "      <th>count</th>\n",
       "      <th>norm_s1</th>\n",
       "      <th>norm_s2</th>\n",
       "      <th>norm_s3</th>\n",
       "      <th>stand_s1</th>\n",
       "      <th>stand_s2</th>\n",
       "      <th>stand_s3</th>\n",
       "    </tr>\n",
       "  </thead>\n",
       "  <tbody>\n",
       "    <tr>\n",
       "      <th>2016-01-01 00:00:00</th>\n",
       "      <td>33</td>\n",
       "      <td>a</td>\n",
       "      <td>-0.694638</td>\n",
       "      <td>12.680544</td>\n",
       "      <td>0.503953</td>\n",
       "      <td>1</td>\n",
       "      <td>0.478144</td>\n",
       "      <td>0.814390</td>\n",
       "      <td>0.515198</td>\n",
       "      <td>-0.198201</td>\n",
       "      <td>0.804140</td>\n",
       "      <td>0.019540</td>\n",
       "    </tr>\n",
       "    <tr>\n",
       "      <th>2016-01-01 00:05:00</th>\n",
       "      <td>33</td>\n",
       "      <td>a</td>\n",
       "      <td>5.012288</td>\n",
       "      <td>11.264028</td>\n",
       "      <td>0.953424</td>\n",
       "      <td>1</td>\n",
       "      <td>0.622404</td>\n",
       "      <td>0.778664</td>\n",
       "      <td>0.526603</td>\n",
       "      <td>0.635040</td>\n",
       "      <td>0.594168</td>\n",
       "      <td>0.114083</td>\n",
       "    </tr>\n",
       "    <tr>\n",
       "      <th>2016-01-01 00:10:00</th>\n",
       "      <td>33</td>\n",
       "      <td>a</td>\n",
       "      <td>4.903325</td>\n",
       "      <td>10.882658</td>\n",
       "      <td>-0.081722</td>\n",
       "      <td>1</td>\n",
       "      <td>0.619649</td>\n",
       "      <td>0.769046</td>\n",
       "      <td>0.500337</td>\n",
       "      <td>0.619131</td>\n",
       "      <td>0.537637</td>\n",
       "      <td>-0.103654</td>\n",
       "    </tr>\n",
       "    <tr>\n",
       "      <th>2016-01-01 00:15:00</th>\n",
       "      <td>33</td>\n",
       "      <td>a</td>\n",
       "      <td>-0.612916</td>\n",
       "      <td>18.496431</td>\n",
       "      <td>3.023717</td>\n",
       "      <td>1</td>\n",
       "      <td>0.480209</td>\n",
       "      <td>0.961070</td>\n",
       "      <td>0.579135</td>\n",
       "      <td>-0.186269</td>\n",
       "      <td>1.666237</td>\n",
       "      <td>0.549558</td>\n",
       "    </tr>\n",
       "    <tr>\n",
       "      <th>2016-01-01 00:20:00</th>\n",
       "      <td>33</td>\n",
       "      <td>a</td>\n",
       "      <td>-1.184970</td>\n",
       "      <td>12.108489</td>\n",
       "      <td>7.205164</td>\n",
       "      <td>1</td>\n",
       "      <td>0.465749</td>\n",
       "      <td>0.799962</td>\n",
       "      <td>0.685236</td>\n",
       "      <td>-0.269793</td>\n",
       "      <td>0.719343</td>\n",
       "      <td>1.429101</td>\n",
       "    </tr>\n",
       "  </tbody>\n",
       "</table>\n",
       "</div>"
      ],
      "text/plain": [
       "                     asset_id operational_mode        s1         s2        s3  \\\n",
       "2016-01-01 00:00:00        33                a -0.694638  12.680544  0.503953   \n",
       "2016-01-01 00:05:00        33                a  5.012288  11.264028  0.953424   \n",
       "2016-01-01 00:10:00        33                a  4.903325  10.882658 -0.081722   \n",
       "2016-01-01 00:15:00        33                a -0.612916  18.496431  3.023717   \n",
       "2016-01-01 00:20:00        33                a -1.184970  12.108489  7.205164   \n",
       "\n",
       "                     count   norm_s1   norm_s2   norm_s3  stand_s1  stand_s2  \\\n",
       "2016-01-01 00:00:00      1  0.478144  0.814390  0.515198 -0.198201  0.804140   \n",
       "2016-01-01 00:05:00      1  0.622404  0.778664  0.526603  0.635040  0.594168   \n",
       "2016-01-01 00:10:00      1  0.619649  0.769046  0.500337  0.619131  0.537637   \n",
       "2016-01-01 00:15:00      1  0.480209  0.961070  0.579135 -0.186269  1.666237   \n",
       "2016-01-01 00:20:00      1  0.465749  0.799962  0.685236 -0.269793  0.719343   \n",
       "\n",
       "                     stand_s3  \n",
       "2016-01-01 00:00:00  0.019540  \n",
       "2016-01-01 00:05:00  0.114083  \n",
       "2016-01-01 00:10:00 -0.103654  \n",
       "2016-01-01 00:15:00  0.549558  \n",
       "2016-01-01 00:20:00  1.429101  "
      ]
     },
     "execution_count": 24,
     "metadata": {},
     "output_type": "execute_result"
    }
   ],
   "source": [
    "data['stand_s1'] = standardize(data['s1'])\n",
    "data['stand_s2'] = standardize(data['s2'])\n",
    "data['stand_s3'] = standardize(data['s3'])\n",
    "data.head()"
   ]
  },
  {
   "cell_type": "markdown",
   "metadata": {
    "collapsed": true
   },
   "source": [
    "# Feature engineering and modelling"
   ]
  },
  {
   "cell_type": "code",
   "execution_count": 25,
   "metadata": {
    "collapsed": true
   },
   "outputs": [],
   "source": [
    "import numpy\n",
    "from keras.models import Sequential\n",
    "from keras.layers import Dense, Dropout\n",
    "from keras.layers import LSTM, SimpleRNN\n",
    "from keras.layers import MaxPooling2D, Conv1D\n",
    "from keras.layers import TimeDistributed\n",
    "from keras.layers.convolutional import Conv1D\n",
    "from keras.layers.convolutional import MaxPooling1D\n",
    "from keras.preprocessing import sequence\n",
    "from sklearn.model_selection import train_test_split\n",
    "# fix random seed for reproducibility\n",
    "numpy.random.seed(7)"
   ]
  },
  {
   "cell_type": "code",
   "execution_count": 26,
   "metadata": {
    "collapsed": true
   },
   "outputs": [],
   "source": [
    "from sklearn import preprocessing\n",
    "le = preprocessing.LabelEncoder()\n",
    "le.fit(data.operational_mode.values)\n",
    "data['y'] = le.transform(data.operational_mode.values)"
   ]
  },
  {
   "cell_type": "markdown",
   "metadata": {},
   "source": [
    "## Feature Engineering"
   ]
  },
  {
   "cell_type": "markdown",
   "metadata": {},
   "source": [
    "Add new features for both the normalized and standardized data:\n",
    "\n",
    "* Sensor reading at time T-1\n",
    "* Sensor reading at time T-2\n",
    "* Difference between sensor reading T - (T-1)\n",
    "* Difference between sensor reading (T-1) - (T-2)"
   ]
  },
  {
   "cell_type": "code",
   "execution_count": 27,
   "metadata": {
    "collapsed": true
   },
   "outputs": [],
   "source": [
    "data2 = data.copy()\n",
    "data2['prev_norm_s1'] = data2.groupby(['asset_id'])['norm_s1'].shift()\n",
    "data2['prev_norm_s2'] = data2.groupby(['asset_id'])['norm_s2'].shift()\n",
    "data2['prev_norm_s3'] = data2.groupby(['asset_id'])['norm_s3'].shift()\n",
    "data2['prev_norm_1_diff'] = data2['prev_norm_s1'] - data2['norm_s1']\n",
    "data2['prev_norm_2_diff'] = data2['prev_norm_s2'] - data2['norm_s2']\n",
    "data2['prev_norm_3_diff'] = data2['prev_norm_s3'] - data2['norm_s3']\n",
    "\n",
    "data2['prev_stand_s1'] = data2.groupby(['asset_id'])['stand_s1'].shift()\n",
    "data2['prev_stand_s2'] = data2.groupby(['asset_id'])['stand_s2'].shift()\n",
    "data2['prev_stand_s3'] = data2.groupby(['asset_id'])['stand_s3'].shift()\n",
    "data2['prev_stand_1_diff'] = data2['prev_stand_s1'] - data2['stand_s1']\n",
    "data2['prev_stand_2_diff'] = data2['prev_stand_s2'] - data2['stand_s2']\n",
    "data2['prev_stand_3_diff'] = data2['prev_stand_s3'] - data2['stand_s3']\n",
    "\n",
    "data2 = data2.dropna()"
   ]
  },
  {
   "cell_type": "code",
   "execution_count": 28,
   "metadata": {},
   "outputs": [
    {
     "data": {
      "text/html": [
       "<div>\n",
       "<style>\n",
       "    .dataframe thead tr:only-child th {\n",
       "        text-align: right;\n",
       "    }\n",
       "\n",
       "    .dataframe thead th {\n",
       "        text-align: left;\n",
       "    }\n",
       "\n",
       "    .dataframe tbody tr th {\n",
       "        vertical-align: top;\n",
       "    }\n",
       "</style>\n",
       "<table border=\"1\" class=\"dataframe\">\n",
       "  <thead>\n",
       "    <tr style=\"text-align: right;\">\n",
       "      <th></th>\n",
       "      <th>asset_id</th>\n",
       "      <th>operational_mode</th>\n",
       "      <th>s1</th>\n",
       "      <th>s2</th>\n",
       "      <th>s3</th>\n",
       "      <th>count</th>\n",
       "      <th>norm_s1</th>\n",
       "      <th>norm_s2</th>\n",
       "      <th>norm_s3</th>\n",
       "      <th>stand_s1</th>\n",
       "      <th>...</th>\n",
       "      <th>prev_norm_s3-1</th>\n",
       "      <th>prev_norm_1_diff-1</th>\n",
       "      <th>prev_norm_2_diff-1</th>\n",
       "      <th>prev_norm_3_diff-1</th>\n",
       "      <th>prev_stand_s1-1</th>\n",
       "      <th>prev_stand_s2-1</th>\n",
       "      <th>prev_stand_s3-1</th>\n",
       "      <th>prev_stand_1_diff-1</th>\n",
       "      <th>prev_stand_2_diff-1</th>\n",
       "      <th>prev_stand_3_diff-1</th>\n",
       "    </tr>\n",
       "  </thead>\n",
       "  <tbody>\n",
       "    <tr>\n",
       "      <th>2016-01-01 00:15:00</th>\n",
       "      <td>33</td>\n",
       "      <td>a</td>\n",
       "      <td>-0.612916</td>\n",
       "      <td>18.496431</td>\n",
       "      <td>3.023717</td>\n",
       "      <td>1</td>\n",
       "      <td>0.480209</td>\n",
       "      <td>0.961070</td>\n",
       "      <td>0.579135</td>\n",
       "      <td>-0.186269</td>\n",
       "      <td>...</td>\n",
       "      <td>0.526603</td>\n",
       "      <td>0.002754</td>\n",
       "      <td>0.009618</td>\n",
       "      <td>0.026266</td>\n",
       "      <td>0.635040</td>\n",
       "      <td>0.594168</td>\n",
       "      <td>0.114083</td>\n",
       "      <td>0.015909</td>\n",
       "      <td>0.056531</td>\n",
       "      <td>0.217737</td>\n",
       "    </tr>\n",
       "    <tr>\n",
       "      <th>2016-01-01 00:20:00</th>\n",
       "      <td>33</td>\n",
       "      <td>a</td>\n",
       "      <td>-1.184970</td>\n",
       "      <td>12.108489</td>\n",
       "      <td>7.205164</td>\n",
       "      <td>1</td>\n",
       "      <td>0.465749</td>\n",
       "      <td>0.799962</td>\n",
       "      <td>0.685236</td>\n",
       "      <td>-0.269793</td>\n",
       "      <td>...</td>\n",
       "      <td>0.500337</td>\n",
       "      <td>0.139440</td>\n",
       "      <td>-0.192025</td>\n",
       "      <td>-0.078798</td>\n",
       "      <td>0.619131</td>\n",
       "      <td>0.537637</td>\n",
       "      <td>-0.103654</td>\n",
       "      <td>0.805401</td>\n",
       "      <td>-1.128600</td>\n",
       "      <td>-0.653211</td>\n",
       "    </tr>\n",
       "    <tr>\n",
       "      <th>2016-01-01 00:25:00</th>\n",
       "      <td>33</td>\n",
       "      <td>a</td>\n",
       "      <td>1.375655</td>\n",
       "      <td>-2.492524</td>\n",
       "      <td>-6.510526</td>\n",
       "      <td>1</td>\n",
       "      <td>0.530477</td>\n",
       "      <td>0.431714</td>\n",
       "      <td>0.337211</td>\n",
       "      <td>0.104073</td>\n",
       "      <td>...</td>\n",
       "      <td>0.579135</td>\n",
       "      <td>0.014460</td>\n",
       "      <td>0.161108</td>\n",
       "      <td>-0.106101</td>\n",
       "      <td>-0.186269</td>\n",
       "      <td>1.666237</td>\n",
       "      <td>0.549558</td>\n",
       "      <td>0.083523</td>\n",
       "      <td>0.946894</td>\n",
       "      <td>-0.879543</td>\n",
       "    </tr>\n",
       "    <tr>\n",
       "      <th>2016-01-01 00:30:00</th>\n",
       "      <td>33</td>\n",
       "      <td>a</td>\n",
       "      <td>-0.612916</td>\n",
       "      <td>10.569390</td>\n",
       "      <td>5.706926</td>\n",
       "      <td>1</td>\n",
       "      <td>0.480209</td>\n",
       "      <td>0.761145</td>\n",
       "      <td>0.647220</td>\n",
       "      <td>-0.186269</td>\n",
       "      <td>...</td>\n",
       "      <td>0.685236</td>\n",
       "      <td>-0.064728</td>\n",
       "      <td>0.368247</td>\n",
       "      <td>0.348026</td>\n",
       "      <td>-0.269793</td>\n",
       "      <td>0.719343</td>\n",
       "      <td>1.429101</td>\n",
       "      <td>-0.373865</td>\n",
       "      <td>2.164329</td>\n",
       "      <td>2.885017</td>\n",
       "    </tr>\n",
       "    <tr>\n",
       "      <th>2016-01-01 00:35:00</th>\n",
       "      <td>33</td>\n",
       "      <td>a</td>\n",
       "      <td>-0.503953</td>\n",
       "      <td>13.947236</td>\n",
       "      <td>7.055340</td>\n",
       "      <td>1</td>\n",
       "      <td>0.482964</td>\n",
       "      <td>0.846336</td>\n",
       "      <td>0.681435</td>\n",
       "      <td>-0.170360</td>\n",
       "      <td>...</td>\n",
       "      <td>0.337211</td>\n",
       "      <td>0.050267</td>\n",
       "      <td>-0.329430</td>\n",
       "      <td>-0.310009</td>\n",
       "      <td>0.104073</td>\n",
       "      <td>-1.444985</td>\n",
       "      <td>-1.455916</td>\n",
       "      <td>0.290342</td>\n",
       "      <td>-1.936186</td>\n",
       "      <td>-2.569871</td>\n",
       "    </tr>\n",
       "  </tbody>\n",
       "</table>\n",
       "<p>5 rows × 37 columns</p>\n",
       "</div>"
      ],
      "text/plain": [
       "                     asset_id operational_mode        s1         s2        s3  \\\n",
       "2016-01-01 00:15:00        33                a -0.612916  18.496431  3.023717   \n",
       "2016-01-01 00:20:00        33                a -1.184970  12.108489  7.205164   \n",
       "2016-01-01 00:25:00        33                a  1.375655  -2.492524 -6.510526   \n",
       "2016-01-01 00:30:00        33                a -0.612916  10.569390  5.706926   \n",
       "2016-01-01 00:35:00        33                a -0.503953  13.947236  7.055340   \n",
       "\n",
       "                     count   norm_s1   norm_s2   norm_s3  stand_s1  \\\n",
       "2016-01-01 00:15:00      1  0.480209  0.961070  0.579135 -0.186269   \n",
       "2016-01-01 00:20:00      1  0.465749  0.799962  0.685236 -0.269793   \n",
       "2016-01-01 00:25:00      1  0.530477  0.431714  0.337211  0.104073   \n",
       "2016-01-01 00:30:00      1  0.480209  0.761145  0.647220 -0.186269   \n",
       "2016-01-01 00:35:00      1  0.482964  0.846336  0.681435 -0.170360   \n",
       "\n",
       "                            ...           prev_norm_s3-1  prev_norm_1_diff-1  \\\n",
       "2016-01-01 00:15:00         ...                 0.526603            0.002754   \n",
       "2016-01-01 00:20:00         ...                 0.500337            0.139440   \n",
       "2016-01-01 00:25:00         ...                 0.579135            0.014460   \n",
       "2016-01-01 00:30:00         ...                 0.685236           -0.064728   \n",
       "2016-01-01 00:35:00         ...                 0.337211            0.050267   \n",
       "\n",
       "                     prev_norm_2_diff-1  prev_norm_3_diff-1  prev_stand_s1-1  \\\n",
       "2016-01-01 00:15:00            0.009618            0.026266         0.635040   \n",
       "2016-01-01 00:20:00           -0.192025           -0.078798         0.619131   \n",
       "2016-01-01 00:25:00            0.161108           -0.106101        -0.186269   \n",
       "2016-01-01 00:30:00            0.368247            0.348026        -0.269793   \n",
       "2016-01-01 00:35:00           -0.329430           -0.310009         0.104073   \n",
       "\n",
       "                     prev_stand_s2-1  prev_stand_s3-1  prev_stand_1_diff-1  \\\n",
       "2016-01-01 00:15:00         0.594168         0.114083             0.015909   \n",
       "2016-01-01 00:20:00         0.537637        -0.103654             0.805401   \n",
       "2016-01-01 00:25:00         1.666237         0.549558             0.083523   \n",
       "2016-01-01 00:30:00         0.719343         1.429101            -0.373865   \n",
       "2016-01-01 00:35:00        -1.444985        -1.455916             0.290342   \n",
       "\n",
       "                     prev_stand_2_diff-1  prev_stand_3_diff-1  \n",
       "2016-01-01 00:15:00             0.056531             0.217737  \n",
       "2016-01-01 00:20:00            -1.128600            -0.653211  \n",
       "2016-01-01 00:25:00             0.946894            -0.879543  \n",
       "2016-01-01 00:30:00             2.164329             2.885017  \n",
       "2016-01-01 00:35:00            -1.936186            -2.569871  \n",
       "\n",
       "[5 rows x 37 columns]"
      ]
     },
     "execution_count": 28,
     "metadata": {},
     "output_type": "execute_result"
    }
   ],
   "source": [
    "data2['prev_norm_s1-1'] = data2.groupby(['asset_id'])['norm_s1'].shift(2)\n",
    "data2['prev_norm_s2-1'] = data2.groupby(['asset_id'])['norm_s2'].shift(2)\n",
    "data2['prev_norm_s3-1'] = data2.groupby(['asset_id'])['norm_s3'].shift(2)\n",
    "data2['prev_norm_1_diff-1'] = data2['prev_norm_s1-1'] - data2['prev_norm_s1']\n",
    "data2['prev_norm_2_diff-1'] = data2['prev_norm_s2-1'] - data2['prev_norm_s2']\n",
    "data2['prev_norm_3_diff-1'] = data2['prev_norm_s3-1'] - data2['prev_norm_s3']\n",
    "\n",
    "data2['prev_stand_s1-1'] = data2.groupby(['asset_id'])['stand_s1'].shift(2)\n",
    "data2['prev_stand_s2-1'] = data2.groupby(['asset_id'])['stand_s2'].shift(2)\n",
    "data2['prev_stand_s3-1'] = data2.groupby(['asset_id'])['stand_s3'].shift(2)\n",
    "data2['prev_stand_1_diff-1'] = data2['prev_stand_s1-1'] - data2['prev_stand_s1']\n",
    "data2['prev_stand_2_diff-1'] = data2['prev_stand_s2-1'] - data2['prev_stand_s2']\n",
    "data2['prev_stand_3_diff-1'] = data2['prev_stand_s3-1'] - data2['prev_stand_s3']\n",
    "\n",
    "data2 = data2.dropna()\n",
    "data2.head()"
   ]
  },
  {
   "cell_type": "code",
   "execution_count": null,
   "metadata": {
    "collapsed": true
   },
   "outputs": [],
   "source": []
  },
  {
   "cell_type": "markdown",
   "metadata": {},
   "source": [
    "## Train/Test split"
   ]
  },
  {
   "cell_type": "code",
   "execution_count": 29,
   "metadata": {
    "collapsed": true
   },
   "outputs": [],
   "source": [
    "XX_train, XX_test, yy_train, yy_test = train_test_split(\n",
    "    data2.drop(['operational_mode', 'y', 's1', 's2', 's3', 'count'], axis=1), data2.y, test_size=0.33, random_state=42)"
   ]
  },
  {
   "cell_type": "markdown",
   "metadata": {},
   "source": [
    "Data split - use 2/3 for training and 1/3 for testing."
   ]
  },
  {
   "cell_type": "markdown",
   "metadata": {},
   "source": [
    "## Function for one hot encoding"
   ]
  },
  {
   "cell_type": "code",
   "execution_count": 30,
   "metadata": {
    "collapsed": true
   },
   "outputs": [],
   "source": [
    "def convert_to_one_hot(Y, C):\n",
    "    Y = np.eye(C)[Y.reshape(-1)]\n",
    "    return Y"
   ]
  },
  {
   "cell_type": "markdown",
   "metadata": {},
   "source": [
    "## Check label counts"
   ]
  },
  {
   "cell_type": "code",
   "execution_count": 32,
   "metadata": {},
   "outputs": [
    {
     "name": "stdout",
     "output_type": "stream",
     "text": [
      "After OverSampling, counts of label '0': 229025\n",
      "After OverSampling, counts of label '1': 284336\n",
      "After OverSampling, counts of label '2': 82211\n",
      "After OverSampling, counts of label '3': 67545\n",
      "After OverSampling, counts of label '4': 40122\n",
      "After OverSampling, counts of label '5': 32481\n"
     ]
    }
   ],
   "source": [
    "print(\"After OverSampling, counts of label '0': {}\".format(sum(yy_train==0)))\n",
    "print(\"After OverSampling, counts of label '1': {}\".format(sum(yy_train==1)))\n",
    "print(\"After OverSampling, counts of label '2': {}\".format(sum(yy_train==2)))\n",
    "print(\"After OverSampling, counts of label '3': {}\".format(sum(yy_train==3)))\n",
    "print(\"After OverSampling, counts of label '4': {}\".format(sum(yy_train==4)))\n",
    "print(\"After OverSampling, counts of label '5': {}\".format(sum(yy_train==5)))"
   ]
  },
  {
   "cell_type": "markdown",
   "metadata": {},
   "source": [
    "## Reshaping"
   ]
  },
  {
   "cell_type": "code",
   "execution_count": 33,
   "metadata": {},
   "outputs": [
    {
     "data": {
      "text/plain": [
       "(735720, 31, 1)"
      ]
     },
     "execution_count": 33,
     "metadata": {},
     "output_type": "execute_result"
    }
   ],
   "source": [
    "sX_train = np.expand_dims(XX_train, 2)\n",
    "sX_test = np.expand_dims(XX_test, 2)\n",
    "sX_train.shape"
   ]
  },
  {
   "cell_type": "code",
   "execution_count": 34,
   "metadata": {},
   "outputs": [
    {
     "name": "stderr",
     "output_type": "stream",
     "text": [
      "/home/ilopvonem/anaconda3/lib/python3.6/site-packages/ipykernel_launcher.py:2: FutureWarning: reshape is deprecated and will raise in a subsequent release. Please use .values.reshape(...) instead\n",
      "  \n"
     ]
    }
   ],
   "source": [
    "train_Y = convert_to_one_hot(yy_train, C = 6)\n",
    "test_Y  = convert_to_one_hot(yy_test,  C = 6)"
   ]
  },
  {
   "cell_type": "markdown",
   "metadata": {},
   "source": [
    "## Training the LSTM"
   ]
  },
  {
   "cell_type": "code",
   "execution_count": 35,
   "metadata": {},
   "outputs": [
    {
     "name": "stdout",
     "output_type": "stream",
     "text": [
      "WARNING:tensorflow:From /home/ilopvonem/anaconda3/lib/python3.6/site-packages/keras/backend/tensorflow_backend.py:1190: calling reduce_sum (from tensorflow.python.ops.math_ops) with keep_dims is deprecated and will be removed in a future version.\n",
      "Instructions for updating:\n",
      "keep_dims is deprecated, use keepdims instead\n",
      "WARNING:tensorflow:From /home/ilopvonem/anaconda3/lib/python3.6/site-packages/keras/backend/tensorflow_backend.py:1297: calling reduce_mean (from tensorflow.python.ops.math_ops) with keep_dims is deprecated and will be removed in a future version.\n",
      "Instructions for updating:\n",
      "keep_dims is deprecated, use keepdims instead\n",
      "_________________________________________________________________\n",
      "Layer (type)                 Output Shape              Param #   \n",
      "=================================================================\n",
      "conv1d_1 (Conv1D)            (None, 31, 64)            256       \n",
      "_________________________________________________________________\n",
      "leaky_re_lu_1 (LeakyReLU)    (None, 31, 64)            0         \n",
      "_________________________________________________________________\n",
      "max_pooling1d_1 (MaxPooling1 (None, 15, 64)            0         \n",
      "_________________________________________________________________\n",
      "lstm_1 (LSTM)                (None, 64)                33024     \n",
      "_________________________________________________________________\n",
      "leaky_re_lu_2 (LeakyReLU)    (None, 64)                0         \n",
      "_________________________________________________________________\n",
      "dense_1 (Dense)              (None, 6)                 390       \n",
      "=================================================================\n",
      "Total params: 33,670\n",
      "Trainable params: 33,670\n",
      "Non-trainable params: 0\n",
      "_________________________________________________________________\n",
      "None\n",
      "Train on 735720 samples, validate on 362371 samples\n",
      "Epoch 1/3\n",
      "735720/735720 [==============================] - 251s - loss: 0.2710 - mean_absolute_error: 0.1472 - acc: 0.6867 - val_loss: 0.2512 - val_mean_absolute_error: 0.1217 - val_acc: 0.7336\n",
      "Epoch 2/3\n",
      "735720/735720 [==============================] - 247s - loss: 0.2509 - mean_absolute_error: 0.1243 - acc: 0.7360 - val_loss: 0.2422 - val_mean_absolute_error: 0.1102 - val_acc: 0.7551\n",
      "Epoch 3/3\n",
      "735720/735720 [==============================] - 250s - loss: 0.2456 - mean_absolute_error: 0.1186 - acc: 0.7480 - val_loss: 0.2363 - val_mean_absolute_error: 0.1098 - val_acc: 0.7678\n"
     ]
    },
    {
     "data": {
      "text/plain": [
       "<keras.callbacks.History at 0x7feb2a270d68>"
      ]
     },
     "execution_count": 35,
     "metadata": {},
     "output_type": "execute_result"
    }
   ],
   "source": [
    "from keras.layers.advanced_activations import LeakyReLU\n",
    "\n",
    "embedding_vecor_length = 32\n",
    "n_features = sX_train.shape[1]\n",
    "n_output = sX_train.shape[2]\n",
    "\n",
    "model = Sequential()\n",
    "model.add(Conv1D(filters=64, kernel_size=3, padding='same', input_shape=(n_features,n_output)))\n",
    "model.add(LeakyReLU(0.2))\n",
    "model.add(MaxPooling1D(pool_size=2))\n",
    "model.add( LSTM(64, dropout=0.2, recurrent_dropout=0.2) ) #, return_sequences=True\n",
    "model.add(LeakyReLU(0.2))\n",
    "# model.add( LSTM(5) )\n",
    "# model.add(Flatten())\n",
    "model.add( Dense(6, activation='softmax') )\n",
    "rmsp = keras.optimizers.RMSprop(lr=0.05, rho=0.9, epsilon=0.01, decay=0.0)\n",
    "model.compile( loss=rmse, optimizer=rmsp, metrics=['mae', 'accuracy'] )\n",
    "print(model.summary())\n",
    "model.fit(sX_train, train_Y, validation_data=(sX_test, test_Y), epochs=3, batch_size=128)"
   ]
  },
  {
   "cell_type": "code",
   "execution_count": 37,
   "metadata": {},
   "outputs": [
    {
     "name": "stdout",
     "output_type": "stream",
     "text": [
      "362240/362371 [============================>.] - ETA: 0s\n",
      "Test Loss:  0.2347315711611319\n",
      "Mean Absolute Error:   0.10976900184693462\n",
      "Accuracy:   0.767760113254096\n",
      "\n",
      "Confusion Matrix:\n",
      "[[100853  10309    825    811    222    111]\n",
      " [  6314 126173   4659   2185    100    541]\n",
      " [  5927  20951  10258   2396     96   1030]\n",
      " [  4975  17442   3893   6083     68    419]\n",
      " [    23     43     82     24  19544    101]\n",
      " [    12    129    362     29     78  15303]]\n",
      "\n",
      " Classification Report:\n",
      "                      precision    recall  f1-score   support\n",
      "\n",
      "Operational Mode \"A\"       0.85      0.89      0.87    113131\n",
      "Operational Mode \"B\"       0.72      0.90      0.80    139972\n",
      "Operational Mode \"C\"       0.51      0.25      0.34     40658\n",
      "Operational Mode \"D\"       0.53      0.19      0.27     32880\n",
      "Operational Mode \"E\"       0.97      0.99      0.98     19817\n",
      "Operational Mode \"F\"       0.87      0.96      0.92     15913\n",
      "\n",
      "           micro avg       0.77      0.77      0.77    362371\n",
      "           macro avg       0.74      0.70      0.70    362371\n",
      "        weighted avg       0.74      0.77      0.74    362371\n",
      "\n"
     ]
    }
   ],
   "source": [
    "from sklearn.metrics import confusion_matrix, classification_report\n",
    "\n",
    "test = model.evaluate( sX_test, test_Y, verbose=1 )\n",
    "print()\n",
    "print(\"Train Loss (RMSE): \", test[0])\n",
    "print(\"Mean Absolute Error:  \", test[1])\n",
    "print(\"Accuracy:  \", test[2])\n",
    "print()\n",
    "\n",
    "pred = model.predict(sX_test)\n",
    "Y_pred = np.argmax(pred, axis=1)\n",
    "Y_true = np.argmax(test_Y,  axis=1)\n",
    "\n",
    "print(\"Confusion Matrix:\")\n",
    "print(confusion_matrix(Y_true, Y_pred))\n",
    "\n",
    "print(\"\\n Classification Report:\")\n",
    "target_classes = ['Operational Mode \"A\"', 'Operational Mode \"B\"', 'Operational Mode \"C\"',\n",
    "                  'Operational Mode \"D\"', 'Operational Mode \"E\"', 'Operational Mode \"F\"']\n",
    "print(classification_report(Y_true, Y_pred, target_names=target_classes))"
   ]
  },
  {
   "cell_type": "code",
   "execution_count": null,
   "metadata": {
    "collapsed": true
   },
   "outputs": [],
   "source": []
  },
  {
   "cell_type": "markdown",
   "metadata": {},
   "source": [
    "## CNN LSTM with Euclidian Distance"
   ]
  },
  {
   "cell_type": "code",
   "execution_count": 38,
   "metadata": {
    "collapsed": true
   },
   "outputs": [],
   "source": [
    "# data3 = data2.copy()\n",
    "# data3['s1_s2_eucl'] = (data2['norm_s1'] - data2['norm_s2']).apply(lambda x: sqrt(x**2))\n",
    "# data3['s2_s3_eucl'] = (data2['norm_s2'] - data2['norm_s3']).apply(lambda x: sqrt(x**2))\n",
    "# data3['s1_s3_eucl'] = (data2['norm_s1'] - data2['norm_s3']).apply(lambda x: sqrt(x**2))\n",
    "\n",
    "# data3['stand_s1_s2_eucl'] = (data2['stand_s1'] - data2['stand_s2']).apply(lambda x: sqrt(x**2))\n",
    "# data3['stand_s2_s3_eucl'] = (data2['stand_s2'] - data2['stand_s3']).apply(lambda x: sqrt(x**2))\n",
    "# data3['stand_s1_s3_eucl'] = (data2['stand_s1'] - data2['stand_s3']).apply(lambda x: sqrt(x**2))\n",
    "# data3.head()"
   ]
  },
  {
   "cell_type": "code",
   "execution_count": 39,
   "metadata": {
    "collapsed": true
   },
   "outputs": [],
   "source": [
    "# X_train_e, X_test_e, y_train_e, y_test_e = train_test_split(\n",
    "#     data3.drop(['operational_mode', 'y', 'asset_id', 's1', 's2', 's3'], axis=1), data3.y, test_size=0.33, random_state=42)"
   ]
  },
  {
   "cell_type": "code",
   "execution_count": 40,
   "metadata": {
    "collapsed": true
   },
   "outputs": [],
   "source": [
    "# sX_train_e = np.expand_dims(X_train_e, 2)\n",
    "# sX_test_e = np.expand_dims(X_test_e, 2)\n",
    "# sX_train_e.shape"
   ]
  },
  {
   "cell_type": "code",
   "execution_count": 41,
   "metadata": {
    "collapsed": true
   },
   "outputs": [],
   "source": [
    "# embedding_vecor_length = 32\n",
    "# n_features = sX_train_e.shape[1]\n",
    "# n_output = sX_train_e.shape[2]\n",
    "\n",
    "# model = Sequential()\n",
    "# model.add(Conv1D(filters=32, kernel_size=3, padding='same', activation='relu', input_shape=(n_features,n_output)))\n",
    "# model.add(MaxPooling1D(pool_size=2))\n",
    "# model.add( LSTM(32) ) #, dropout=0.2, recurrent_dropout=0.2, return_sequences=True\n",
    "# # model.add( LSTM(5) )\n",
    "# # model.add(Flatten())\n",
    "# model.add( Dense(1, activation='relu') )\n",
    "# rmsp = keras.optimizers.RMSprop(lr=0.05, rho=0.9, epsilon=0.01, decay=0.0)\n",
    "# model.compile( loss=rmse, optimizer=rmsp, metrics=['mae', 'accuracy'] )\n",
    "# print(model.summary())\n",
    "# model.fit(sX_train_e, y_train_e, validation_data=(sX_test_e, y_test_e), epochs=3, batch_size=128)"
   ]
  },
  {
   "cell_type": "code",
   "execution_count": null,
   "metadata": {
    "collapsed": true
   },
   "outputs": [],
   "source": []
  },
  {
   "cell_type": "code",
   "execution_count": 42,
   "metadata": {
    "collapsed": true
   },
   "outputs": [],
   "source": [
    "sm = SMOTE(sampling_strategy='all', random_state=42)\n",
    "X_train_res, y_train_res = sm.fit_sample(XX_train, yy_train.ravel())"
   ]
  },
  {
   "cell_type": "code",
   "execution_count": 43,
   "metadata": {},
   "outputs": [
    {
     "name": "stdout",
     "output_type": "stream",
     "text": [
      "After OverSampling, counts of label '0': 284336\n",
      "After OverSampling, counts of label '1': 284336\n",
      "After OverSampling, counts of label '2': 284336\n",
      "After OverSampling, counts of label '3': 284336\n",
      "After OverSampling, counts of label '4': 284336\n",
      "After OverSampling, counts of label '5': 284336\n"
     ]
    }
   ],
   "source": [
    "print(\"After OverSampling, counts of label '0': {}\".format(sum(y_train_res==0)))\n",
    "print(\"After OverSampling, counts of label '1': {}\".format(sum(y_train_res==1)))\n",
    "print(\"After OverSampling, counts of label '2': {}\".format(sum(y_train_res==2)))\n",
    "print(\"After OverSampling, counts of label '3': {}\".format(sum(y_train_res==3)))\n",
    "print(\"After OverSampling, counts of label '4': {}\".format(sum(y_train_res==4)))\n",
    "print(\"After OverSampling, counts of label '5': {}\".format(sum(y_train_res==5)))"
   ]
  },
  {
   "cell_type": "code",
   "execution_count": 44,
   "metadata": {},
   "outputs": [
    {
     "name": "stderr",
     "output_type": "stream",
     "text": [
      "/home/ilopvonem/anaconda3/lib/python3.6/site-packages/ipykernel_launcher.py:2: FutureWarning: reshape is deprecated and will raise in a subsequent release. Please use .values.reshape(...) instead\n",
      "  \n"
     ]
    }
   ],
   "source": [
    "train_Y_res = convert_to_one_hot(y_train_res, C = 6)\n",
    "test_Y_res  = convert_to_one_hot(yy_test,  C = 6)"
   ]
  },
  {
   "cell_type": "markdown",
   "metadata": {
    "collapsed": true
   },
   "source": [
    "## CNN LSTM with resampled data"
   ]
  },
  {
   "cell_type": "code",
   "execution_count": 45,
   "metadata": {},
   "outputs": [
    {
     "name": "stdout",
     "output_type": "stream",
     "text": [
      "_________________________________________________________________\n",
      "Layer (type)                 Output Shape              Param #   \n",
      "=================================================================\n",
      "conv1d_2 (Conv1D)            (None, 31, 32)            128       \n",
      "_________________________________________________________________\n",
      "max_pooling1d_2 (MaxPooling1 (None, 15, 32)            0         \n",
      "_________________________________________________________________\n",
      "lstm_2 (LSTM)                (None, 15, 32)            8320      \n",
      "_________________________________________________________________\n",
      "lstm_3 (LSTM)                (None, 5)                 760       \n",
      "_________________________________________________________________\n",
      "dense_2 (Dense)              (None, 6)                 36        \n",
      "=================================================================\n",
      "Total params: 9,244\n",
      "Trainable params: 9,244\n",
      "Non-trainable params: 0\n",
      "_________________________________________________________________\n",
      "None\n",
      "Train on 1706016 samples, validate on 362371 samples\n",
      "Epoch 1/3\n",
      "1706016/1706016 [==============================] - 494s - loss: 0.2632 - mean_absolute_error: 0.1400 - acc: 0.6648 - val_loss: 0.2638 - val_mean_absolute_error: 0.1480 - val_acc: 0.7032\n",
      "Epoch 2/3\n",
      "1706016/1706016 [==============================] - 517s - loss: 0.2526 - mean_absolute_error: 0.1278 - acc: 0.7005 - val_loss: 0.2772 - val_mean_absolute_error: 0.1604 - val_acc: 0.6521\n",
      "Epoch 3/3\n",
      "1706016/1706016 [==============================] - 525s - loss: 0.2503 - mean_absolute_error: 0.1253 - acc: 0.7079 - val_loss: 0.2692 - val_mean_absolute_error: 0.1464 - val_acc: 0.6722\n"
     ]
    },
    {
     "data": {
      "text/plain": [
       "<keras.callbacks.History at 0x7feb29e839b0>"
      ]
     },
     "execution_count": 45,
     "metadata": {},
     "output_type": "execute_result"
    }
   ],
   "source": [
    "sX_train_res = np.expand_dims(X_train_res, 2)\n",
    "sX_test_res = np.expand_dims(XX_test, 2)\n",
    "\n",
    "embedding_vecor_length = 32\n",
    "n_features = sX_train_res.shape[1]\n",
    "n_output = sX_train_res.shape[2]\n",
    "\n",
    "model_res = Sequential()\n",
    "model_res.add(Conv1D(filters=32, kernel_size=3, padding='same', input_shape=(n_features,n_output))) # , activation='relu'\n",
    "model.add(LeakyReLU(0.2))\n",
    "model_res.add(MaxPooling1D(pool_size=2))\n",
    "model_res.add( LSTM(32, dropout=0.2, recurrent_dropout=0.2, return_sequences=True) )\n",
    "model.add(LeakyReLU(0.2))\n",
    "model_res.add( LSTM(5) )\n",
    "model.add(LeakyReLU(0.2))\n",
    "# model.add(Flatten())\n",
    "model_res.add( Dense(6, activation='softmax') )\n",
    "rmsp = keras.optimizers.RMSprop(lr=0.05, rho=0.9, epsilon=0.01, decay=0.0)\n",
    "model_res.compile( loss=rmse, optimizer=rmsp, metrics=['mae', 'accuracy'] )\n",
    "print(model_res.summary())\n",
    "model_res.fit(sX_train_res, train_Y_res, validation_data=(sX_test_res, test_Y_res), epochs=3, batch_size=128)"
   ]
  },
  {
   "cell_type": "markdown",
   "metadata": {},
   "source": [
    "High variance."
   ]
  },
  {
   "cell_type": "code",
   "execution_count": 46,
   "metadata": {},
   "outputs": [
    {
     "name": "stdout",
     "output_type": "stream",
     "text": [
      "362208/362371 [============================>.] - ETA: 0s\n",
      "Test Loss:  0.26831025822280297\n",
      "Mean Absolute Error:   0.14635307916444934\n",
      "Accuracy:   0.6722143880167011\n",
      "\n",
      "Confusion Matrix:\n",
      "[[99658  5490  2372  5170   346    95]\n",
      " [14707 75123 26683 22765    90   604]\n",
      " [ 5754  6364 19303  8224    94   919]\n",
      " [ 4555  5551  7810 14545    65   354]\n",
      " [   29     8   107    32 19541   100]\n",
      " [    7    16   398    43    28 15421]]\n",
      "\n",
      " Classification Report:\n",
      "                      precision    recall  f1-score   support\n",
      "\n",
      "Operational Mode \"A\"       0.80      0.88      0.84    113131\n",
      "Operational Mode \"B\"       0.81      0.54      0.65    139972\n",
      "Operational Mode \"C\"       0.34      0.47      0.40     40658\n",
      "Operational Mode \"D\"       0.29      0.44      0.35     32880\n",
      "Operational Mode \"E\"       0.97      0.99      0.98     19817\n",
      "Operational Mode \"F\"       0.88      0.97      0.92     15913\n",
      "\n",
      "           micro avg       0.67      0.67      0.67    362371\n",
      "           macro avg       0.68      0.71      0.69    362371\n",
      "        weighted avg       0.72      0.67      0.68    362371\n",
      "\n"
     ]
    }
   ],
   "source": [
    "test_res = model_res.evaluate( sX_test_res, test_Y_res, verbose=1 )\n",
    "print()\n",
    "print(\"Test Loss: \", test_res[0])\n",
    "print(\"Mean Absolute Error:  \", test_res[1])\n",
    "print(\"Accuracy:  \", test_res[2])\n",
    "print()\n",
    "\n",
    "pred_res = model_res.predict(sX_test_res)\n",
    "Y_pred_res = np.argmax(pred_res, axis=1)\n",
    "Y_true_res = np.argmax(test_Y_res,  axis=1)\n",
    "\n",
    "print(\"Confusion Matrix:\")\n",
    "print(confusion_matrix(Y_true_res, Y_pred_res))\n",
    "\n",
    "print(\"\\n Classification Report:\")\n",
    "target_classes = ['Operational Mode \"A\"', 'Operational Mode \"B\"', 'Operational Mode \"C\"',\n",
    "                  'Operational Mode \"D\"', 'Operational Mode \"E\"', 'Operational Mode \"F\"']\n",
    "print(classification_report(Y_true_res, Y_pred_res, target_names=target_classes))"
   ]
  },
  {
   "cell_type": "code",
   "execution_count": null,
   "metadata": {
    "collapsed": true
   },
   "outputs": [],
   "source": []
  }
 ],
 "metadata": {
  "kernelspec": {
   "display_name": "Python 3",
   "language": "python",
   "name": "python3"
  },
  "language_info": {
   "codemirror_mode": {
    "name": "ipython",
    "version": 3
   },
   "file_extension": ".py",
   "mimetype": "text/x-python",
   "name": "python",
   "nbconvert_exporter": "python",
   "pygments_lexer": "ipython3",
   "version": "3.6.3"
  }
 },
 "nbformat": 4,
 "nbformat_minor": 2
}
